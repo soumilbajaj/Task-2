{
  "nbformat": 4,
  "nbformat_minor": 0,
  "metadata": {
    "kernelspec": {
      "display_name": "Python 3",
      "language": "python",
      "name": "python3"
    },
    "language_info": {
      "codemirror_mode": {
        "name": "ipython",
        "version": 3
      },
      "file_extension": ".py",
      "mimetype": "text/x-python",
      "name": "python",
      "nbconvert_exporter": "python",
      "pygments_lexer": "ipython3",
      "version": "3.7.4"
    },
    "colab": {
      "name": "SB_task2.ipynb",
      "provenance": []
    }
  },
  "cells": [
    {
      "cell_type": "markdown",
      "metadata": {
        "id": "t6il03ALNJSH"
      },
      "source": [
        "# Name  - Soumil Bajaj\n",
        "# Task 2 - Predict the optimum number of clusters from the given dataset and                    represent it visually."
      ]
    },
    {
      "cell_type": "markdown",
      "metadata": {
        "id": "IkxUtF7ZNJSI"
      },
      "source": [
        "# Following are the steps involved for cluster analysis\n",
        "\n",
        "# load the required Python packages: pandas and KMeans from sklearn.cluster"
      ]
    },
    {
      "cell_type": "code",
      "metadata": {
        "id": "li0Lag_pNJSI"
      },
      "source": [
        "import pandas as pd\n",
        "import numpy as np"
      ],
      "execution_count": null,
      "outputs": []
    },
    {
      "cell_type": "markdown",
      "metadata": {
        "id": "r_MBm5nmNJSJ"
      },
      "source": [
        "# load the iris dataset"
      ]
    },
    {
      "cell_type": "code",
      "metadata": {
        "id": "XbpuKUUUNJSJ"
      },
      "source": [
        "df = pd.read_csv(\"iris.csv\")"
      ],
      "execution_count": null,
      "outputs": []
    },
    {
      "cell_type": "code",
      "metadata": {
        "id": "F1t3ggsjNJSJ",
        "outputId": "83844e10-fcee-4cf5-ec89-212b896416ce"
      },
      "source": [
        "df.head()"
      ],
      "execution_count": null,
      "outputs": [
        {
          "output_type": "execute_result",
          "data": {
            "text/html": [
              "<div>\n",
              "<style scoped>\n",
              "    .dataframe tbody tr th:only-of-type {\n",
              "        vertical-align: middle;\n",
              "    }\n",
              "\n",
              "    .dataframe tbody tr th {\n",
              "        vertical-align: top;\n",
              "    }\n",
              "\n",
              "    .dataframe thead th {\n",
              "        text-align: right;\n",
              "    }\n",
              "</style>\n",
              "<table border=\"1\" class=\"dataframe\">\n",
              "  <thead>\n",
              "    <tr style=\"text-align: right;\">\n",
              "      <th></th>\n",
              "      <th>sepal length</th>\n",
              "      <th>sepal width</th>\n",
              "      <th>petal length</th>\n",
              "      <th>petal width</th>\n",
              "      <th>Clas</th>\n",
              "    </tr>\n",
              "  </thead>\n",
              "  <tbody>\n",
              "    <tr>\n",
              "      <td>0</td>\n",
              "      <td>5.1</td>\n",
              "      <td>3.5</td>\n",
              "      <td>1.4</td>\n",
              "      <td>0.2</td>\n",
              "      <td>Iris-setosa</td>\n",
              "    </tr>\n",
              "    <tr>\n",
              "      <td>1</td>\n",
              "      <td>4.9</td>\n",
              "      <td>3.0</td>\n",
              "      <td>1.4</td>\n",
              "      <td>0.2</td>\n",
              "      <td>Iris-setosa</td>\n",
              "    </tr>\n",
              "    <tr>\n",
              "      <td>2</td>\n",
              "      <td>4.7</td>\n",
              "      <td>3.2</td>\n",
              "      <td>1.3</td>\n",
              "      <td>0.2</td>\n",
              "      <td>Iris-setosa</td>\n",
              "    </tr>\n",
              "    <tr>\n",
              "      <td>3</td>\n",
              "      <td>4.6</td>\n",
              "      <td>3.1</td>\n",
              "      <td>1.5</td>\n",
              "      <td>0.2</td>\n",
              "      <td>Iris-setosa</td>\n",
              "    </tr>\n",
              "    <tr>\n",
              "      <td>4</td>\n",
              "      <td>5.0</td>\n",
              "      <td>3.6</td>\n",
              "      <td>1.4</td>\n",
              "      <td>0.2</td>\n",
              "      <td>Iris-setosa</td>\n",
              "    </tr>\n",
              "  </tbody>\n",
              "</table>\n",
              "</div>"
            ],
            "text/plain": [
              "    sepal length  sepal width  petal length  petal width         Clas\n",
              "0            5.1          3.5           1.4          0.2  Iris-setosa\n",
              "1            4.9          3.0           1.4          0.2  Iris-setosa\n",
              "2            4.7          3.2           1.3          0.2  Iris-setosa\n",
              "3            4.6          3.1           1.5          0.2  Iris-setosa\n",
              "4            5.0          3.6           1.4          0.2  Iris-setosa"
            ]
          },
          "metadata": {
            "tags": []
          },
          "execution_count": 3
        }
      ]
    },
    {
      "cell_type": "markdown",
      "metadata": {
        "id": "helyjp3bNJSM"
      },
      "source": [
        "# load kmeans from scikit-learn"
      ]
    },
    {
      "cell_type": "code",
      "metadata": {
        "id": "ziMMMfNaNJSM"
      },
      "source": [
        "from sklearn.cluster import KMeans"
      ],
      "execution_count": null,
      "outputs": []
    },
    {
      "cell_type": "markdown",
      "metadata": {
        "id": "d7pb3jGTNJSM"
      },
      "source": [
        "# Instantiate k-means with a random state of 42 and save it into a variable      called kmeans"
      ]
    },
    {
      "cell_type": "code",
      "metadata": {
        "id": "0lEfN9j9NJSM"
      },
      "source": [
        "kmeans = KMeans(random_state = 42)"
      ],
      "execution_count": null,
      "outputs": []
    },
    {
      "cell_type": "markdown",
      "metadata": {
        "id": "elhm-GI8NJSM"
      },
      "source": [
        "Now feed k-means with our training data. To do so, we need to get only the variables (or columns) used for fitting the model. In our case, the variables are 'sepal length' and 'petal', and they are saved in a new variable called X"
      ]
    },
    {
      "cell_type": "code",
      "metadata": {
        "id": "lRVLJIlTNJSM"
      },
      "source": [
        "X = df[[' sepal length','petal length']]"
      ],
      "execution_count": null,
      "outputs": []
    },
    {
      "cell_type": "markdown",
      "metadata": {
        "id": "c0GQB6pKNJSN"
      },
      "source": [
        "# Now fit kmeans with this training data"
      ]
    },
    {
      "cell_type": "code",
      "metadata": {
        "id": "yLs092ETNJSN",
        "outputId": "84dfe147-451d-48f5-864e-430c1078c347"
      },
      "source": [
        "kmeans.fit(X)"
      ],
      "execution_count": null,
      "outputs": [
        {
          "output_type": "execute_result",
          "data": {
            "text/plain": [
              "KMeans(algorithm='auto', copy_x=True, init='k-means++', max_iter=300,\n",
              "       n_clusters=8, n_init=10, n_jobs=None, precompute_distances='auto',\n",
              "       random_state=42, tol=0.0001, verbose=0)"
            ]
          },
          "metadata": {
            "tags": []
          },
          "execution_count": 7
        }
      ]
    },
    {
      "cell_type": "code",
      "metadata": {
        "id": "DUAW5ftlNJSN",
        "outputId": "76d07aa6-f9a6-4237-f0dc-a99502389b69"
      },
      "source": [
        "y_preds = kmeans.predict(X)\n",
        "y_preds"
      ],
      "execution_count": null,
      "outputs": [
        {
          "output_type": "execute_result",
          "data": {
            "text/plain": [
              "array([5, 1, 1, 1, 5, 5, 1, 5, 1, 1, 5, 1, 1, 1, 5, 5, 5, 5, 5, 5, 5, 5,\n",
              "       1, 5, 1, 5, 5, 5, 5, 1, 1, 5, 5, 5, 1, 5, 5, 1, 1, 5, 5, 1, 1, 5,\n",
              "       5, 1, 5, 1, 5, 5, 6, 6, 6, 2, 6, 2, 6, 7, 6, 7, 7, 2, 2, 3, 7, 6,\n",
              "       2, 2, 6, 2, 3, 2, 3, 3, 6, 6, 6, 6, 3, 7, 7, 7, 2, 3, 2, 3, 6, 6,\n",
              "       2, 2, 2, 3, 2, 7, 2, 2, 2, 6, 7, 2, 0, 3, 0, 0, 0, 4, 2, 4, 0, 4,\n",
              "       0, 0, 0, 3, 3, 0, 0, 4, 4, 3, 0, 3, 4, 3, 0, 4, 3, 3, 0, 0, 4, 4,\n",
              "       0, 3, 0, 4, 0, 0, 3, 0, 0, 0, 3, 0, 0, 0, 3, 0, 0, 3], dtype=int32)"
            ]
          },
          "metadata": {
            "tags": []
          },
          "execution_count": 8
        }
      ]
    },
    {
      "cell_type": "code",
      "metadata": {
        "id": "TQfr1EElNJSN",
        "outputId": "a234149c-27bc-4e7f-d53a-3f309d91ea31"
      },
      "source": [
        "df['cluster'] = y_preds\n",
        "df.head()"
      ],
      "execution_count": null,
      "outputs": [
        {
          "output_type": "execute_result",
          "data": {
            "text/html": [
              "<div>\n",
              "<style scoped>\n",
              "    .dataframe tbody tr th:only-of-type {\n",
              "        vertical-align: middle;\n",
              "    }\n",
              "\n",
              "    .dataframe tbody tr th {\n",
              "        vertical-align: top;\n",
              "    }\n",
              "\n",
              "    .dataframe thead th {\n",
              "        text-align: right;\n",
              "    }\n",
              "</style>\n",
              "<table border=\"1\" class=\"dataframe\">\n",
              "  <thead>\n",
              "    <tr style=\"text-align: right;\">\n",
              "      <th></th>\n",
              "      <th>sepal length</th>\n",
              "      <th>sepal width</th>\n",
              "      <th>petal length</th>\n",
              "      <th>petal width</th>\n",
              "      <th>Clas</th>\n",
              "      <th>cluster</th>\n",
              "    </tr>\n",
              "  </thead>\n",
              "  <tbody>\n",
              "    <tr>\n",
              "      <td>0</td>\n",
              "      <td>5.1</td>\n",
              "      <td>3.5</td>\n",
              "      <td>1.4</td>\n",
              "      <td>0.2</td>\n",
              "      <td>Iris-setosa</td>\n",
              "      <td>5</td>\n",
              "    </tr>\n",
              "    <tr>\n",
              "      <td>1</td>\n",
              "      <td>4.9</td>\n",
              "      <td>3.0</td>\n",
              "      <td>1.4</td>\n",
              "      <td>0.2</td>\n",
              "      <td>Iris-setosa</td>\n",
              "      <td>1</td>\n",
              "    </tr>\n",
              "    <tr>\n",
              "      <td>2</td>\n",
              "      <td>4.7</td>\n",
              "      <td>3.2</td>\n",
              "      <td>1.3</td>\n",
              "      <td>0.2</td>\n",
              "      <td>Iris-setosa</td>\n",
              "      <td>1</td>\n",
              "    </tr>\n",
              "    <tr>\n",
              "      <td>3</td>\n",
              "      <td>4.6</td>\n",
              "      <td>3.1</td>\n",
              "      <td>1.5</td>\n",
              "      <td>0.2</td>\n",
              "      <td>Iris-setosa</td>\n",
              "      <td>1</td>\n",
              "    </tr>\n",
              "    <tr>\n",
              "      <td>4</td>\n",
              "      <td>5.0</td>\n",
              "      <td>3.6</td>\n",
              "      <td>1.4</td>\n",
              "      <td>0.2</td>\n",
              "      <td>Iris-setosa</td>\n",
              "      <td>5</td>\n",
              "    </tr>\n",
              "  </tbody>\n",
              "</table>\n",
              "</div>"
            ],
            "text/plain": [
              "    sepal length  sepal width  petal length  petal width         Clas  cluster\n",
              "0            5.1          3.5           1.4          0.2  Iris-setosa        5\n",
              "1            4.9          3.0           1.4          0.2  Iris-setosa        1\n",
              "2            4.7          3.2           1.3          0.2  Iris-setosa        1\n",
              "3            4.6          3.1           1.5          0.2  Iris-setosa        1\n",
              "4            5.0          3.6           1.4          0.2  Iris-setosa        5"
            ]
          },
          "metadata": {
            "tags": []
          },
          "execution_count": 9
        }
      ]
    },
    {
      "cell_type": "markdown",
      "metadata": {
        "id": "-IEsSlMHNJSN"
      },
      "source": [
        "After training our k-means algorithm, we will be analyzing it's result for more details"
      ]
    },
    {
      "cell_type": "code",
      "metadata": {
        "id": "jHxxgaa5NJSN",
        "outputId": "608d4ca3-cd9d-4250-f182-6b3022d6c52d"
      },
      "source": [
        "df.pivot_table(values=['petal length',' sepal length'], index='cluster', aggfunc=np.mean)"
      ],
      "execution_count": null,
      "outputs": [
        {
          "output_type": "execute_result",
          "data": {
            "text/html": [
              "<div>\n",
              "<style scoped>\n",
              "    .dataframe tbody tr th:only-of-type {\n",
              "        vertical-align: middle;\n",
              "    }\n",
              "\n",
              "    .dataframe tbody tr th {\n",
              "        vertical-align: top;\n",
              "    }\n",
              "\n",
              "    .dataframe thead th {\n",
              "        text-align: right;\n",
              "    }\n",
              "</style>\n",
              "<table border=\"1\" class=\"dataframe\">\n",
              "  <thead>\n",
              "    <tr style=\"text-align: right;\">\n",
              "      <th></th>\n",
              "      <th>sepal length</th>\n",
              "      <th>petal length</th>\n",
              "    </tr>\n",
              "    <tr>\n",
              "      <th>cluster</th>\n",
              "      <th></th>\n",
              "      <th></th>\n",
              "    </tr>\n",
              "  </thead>\n",
              "  <tbody>\n",
              "    <tr>\n",
              "      <td>0</td>\n",
              "      <td>6.588462</td>\n",
              "      <td>5.553846</td>\n",
              "    </tr>\n",
              "    <tr>\n",
              "      <td>1</td>\n",
              "      <td>4.670000</td>\n",
              "      <td>1.420000</td>\n",
              "    </tr>\n",
              "    <tr>\n",
              "      <td>2</td>\n",
              "      <td>5.652632</td>\n",
              "      <td>4.173684</td>\n",
              "    </tr>\n",
              "    <tr>\n",
              "      <td>3</td>\n",
              "      <td>6.014286</td>\n",
              "      <td>4.885714</td>\n",
              "    </tr>\n",
              "    <tr>\n",
              "      <td>4</td>\n",
              "      <td>7.540000</td>\n",
              "      <td>6.390000</td>\n",
              "    </tr>\n",
              "    <tr>\n",
              "      <td>5</td>\n",
              "      <td>5.230000</td>\n",
              "      <td>1.493333</td>\n",
              "    </tr>\n",
              "    <tr>\n",
              "      <td>6</td>\n",
              "      <td>6.553333</td>\n",
              "      <td>4.586667</td>\n",
              "    </tr>\n",
              "    <tr>\n",
              "      <td>7</td>\n",
              "      <td>5.277778</td>\n",
              "      <td>3.511111</td>\n",
              "    </tr>\n",
              "  </tbody>\n",
              "</table>\n",
              "</div>"
            ],
            "text/plain": [
              "          sepal length  petal length\n",
              "cluster                             \n",
              "0             6.588462      5.553846\n",
              "1             4.670000      1.420000\n",
              "2             5.652632      4.173684\n",
              "3             6.014286      4.885714\n",
              "4             7.540000      6.390000\n",
              "5             5.230000      1.493333\n",
              "6             6.553333      4.586667\n",
              "7             5.277778      3.511111"
            ]
          },
          "metadata": {
            "tags": []
          },
          "execution_count": 10
        }
      ]
    },
    {
      "cell_type": "markdown",
      "metadata": {
        "id": "TWRQTS9rNJSN"
      },
      "source": [
        "In the summary above, we can see that the algorithm has grouped the data into eight clusters (clusters 0 to 7)."
      ]
    },
    {
      "cell_type": "markdown",
      "metadata": {
        "id": "Z8tKX5qBNJSN"
      },
      "source": [
        "# Inorder to visualize data I will be using altair package because it is quite  simple to use"
      ]
    },
    {
      "cell_type": "code",
      "metadata": {
        "id": "oux8K2RyNJSN",
        "outputId": "3a1b5dff-decb-420f-87ae-1b47d57d8b79"
      },
      "source": [
        "import altair as alt\n",
        "\n",
        "chart = alt.Chart(df)\n",
        "\n",
        "scatter_plot = chart.mark_circle()\n",
        "scatter_plot.encode(x='petal length', \\\n",
        "                    y=' sepal length', \\\n",
        "                    color='cluster:N', \\\n",
        "                    tooltip=['sepal width', \\\n",
        "                             'cluster', 'petal length', \\\n",
        "                             'Clas'])\\\n",
        "                    .interactive()"
      ],
      "execution_count": null,
      "outputs": [
        {
          "output_type": "execute_result",
          "data": {
            "text/html": [
              "\n",
              "<div id=\"altair-viz-8dc3d19275174ce294283135611d26a5\"></div>\n",
              "<script type=\"text/javascript\">\n",
              "  (function(spec, embedOpt){\n",
              "    let outputDiv = document.currentScript.previousElementSibling;\n",
              "    if (outputDiv.id !== \"altair-viz-8dc3d19275174ce294283135611d26a5\") {\n",
              "      outputDiv = document.getElementById(\"altair-viz-8dc3d19275174ce294283135611d26a5\");\n",
              "    }\n",
              "    const paths = {\n",
              "      \"vega\": \"https://cdn.jsdelivr.net/npm//vega@5?noext\",\n",
              "      \"vega-lib\": \"https://cdn.jsdelivr.net/npm//vega-lib?noext\",\n",
              "      \"vega-lite\": \"https://cdn.jsdelivr.net/npm//vega-lite@4.8.1?noext\",\n",
              "      \"vega-embed\": \"https://cdn.jsdelivr.net/npm//vega-embed@6?noext\",\n",
              "    };\n",
              "\n",
              "    function loadScript(lib) {\n",
              "      return new Promise(function(resolve, reject) {\n",
              "        var s = document.createElement('script');\n",
              "        s.src = paths[lib];\n",
              "        s.async = true;\n",
              "        s.onload = () => resolve(paths[lib]);\n",
              "        s.onerror = () => reject(`Error loading script: ${paths[lib]}`);\n",
              "        document.getElementsByTagName(\"head\")[0].appendChild(s);\n",
              "      });\n",
              "    }\n",
              "\n",
              "    function showError(err) {\n",
              "      outputDiv.innerHTML = `<div class=\"error\" style=\"color:red;\">${err}</div>`;\n",
              "      throw err;\n",
              "    }\n",
              "\n",
              "    function displayChart(vegaEmbed) {\n",
              "      vegaEmbed(outputDiv, spec, embedOpt)\n",
              "        .catch(err => showError(`Javascript Error: ${err.message}<br>This usually means there's a typo in your chart specification. See the javascript console for the full traceback.`));\n",
              "    }\n",
              "\n",
              "    if(typeof define === \"function\" && define.amd) {\n",
              "      requirejs.config({paths});\n",
              "      require([\"vega-embed\"], displayChart, err => showError(`Error loading script: ${err.message}`));\n",
              "    } else if (typeof vegaEmbed === \"function\") {\n",
              "      displayChart(vegaEmbed);\n",
              "    } else {\n",
              "      loadScript(\"vega\")\n",
              "        .then(() => loadScript(\"vega-lite\"))\n",
              "        .then(() => loadScript(\"vega-embed\"))\n",
              "        .catch(showError)\n",
              "        .then(() => displayChart(vegaEmbed));\n",
              "    }\n",
              "  })({\"config\": {\"view\": {\"continuousWidth\": 400, \"continuousHeight\": 300}}, \"data\": {\"name\": \"data-47cf1ed52fbfb3631d893714df5ec622\"}, \"mark\": \"circle\", \"encoding\": {\"color\": {\"type\": \"nominal\", \"field\": \"cluster\"}, \"tooltip\": [{\"type\": \"quantitative\", \"field\": \"sepal width\"}, {\"type\": \"quantitative\", \"field\": \"cluster\"}, {\"type\": \"quantitative\", \"field\": \"petal length\"}, {\"type\": \"nominal\", \"field\": \"Clas\"}], \"x\": {\"type\": \"quantitative\", \"field\": \"petal length\"}, \"y\": {\"type\": \"quantitative\", \"field\": \" sepal length\"}}, \"selection\": {\"selector001\": {\"type\": \"interval\", \"bind\": \"scales\", \"encodings\": [\"x\", \"y\"]}}, \"$schema\": \"https://vega.github.io/schema/vega-lite/v4.8.1.json\", \"datasets\": {\"data-47cf1ed52fbfb3631d893714df5ec622\": [{\" sepal length\": 5.1, \"sepal width\": 3.5, \"petal length\": 1.4, \"petal width\": 0.2, \"Clas\": \"Iris-setosa\", \"cluster\": 5}, {\" sepal length\": 4.9, \"sepal width\": 3.0, \"petal length\": 1.4, \"petal width\": 0.2, \"Clas\": \"Iris-setosa\", \"cluster\": 1}, {\" sepal length\": 4.7, \"sepal width\": 3.2, \"petal length\": 1.3, \"petal width\": 0.2, \"Clas\": \"Iris-setosa\", \"cluster\": 1}, {\" sepal length\": 4.6, \"sepal width\": 3.1, \"petal length\": 1.5, \"petal width\": 0.2, \"Clas\": \"Iris-setosa\", \"cluster\": 1}, {\" sepal length\": 5.0, \"sepal width\": 3.6, \"petal length\": 1.4, \"petal width\": 0.2, \"Clas\": \"Iris-setosa\", \"cluster\": 5}, {\" sepal length\": 5.4, \"sepal width\": 3.9, \"petal length\": 1.7, \"petal width\": 0.4, \"Clas\": \"Iris-setosa\", \"cluster\": 5}, {\" sepal length\": 4.6, \"sepal width\": 3.4, \"petal length\": 1.4, \"petal width\": 0.3, \"Clas\": \"Iris-setosa\", \"cluster\": 1}, {\" sepal length\": 5.0, \"sepal width\": 3.4, \"petal length\": 1.5, \"petal width\": 0.2, \"Clas\": \"Iris-setosa\", \"cluster\": 5}, {\" sepal length\": 4.4, \"sepal width\": 2.9, \"petal length\": 1.4, \"petal width\": 0.2, \"Clas\": \"Iris-setosa\", \"cluster\": 1}, {\" sepal length\": 4.9, \"sepal width\": 3.1, \"petal length\": 1.5, \"petal width\": 0.1, \"Clas\": \"Iris-setosa\", \"cluster\": 1}, {\" sepal length\": 5.4, \"sepal width\": 3.7, \"petal length\": 1.5, \"petal width\": 0.2, \"Clas\": \"Iris-setosa\", \"cluster\": 5}, {\" sepal length\": 4.8, \"sepal width\": 3.4, \"petal length\": 1.6, \"petal width\": 0.2, \"Clas\": \"Iris-setosa\", \"cluster\": 1}, {\" sepal length\": 4.8, \"sepal width\": 3.0, \"petal length\": 1.4, \"petal width\": 0.1, \"Clas\": \"Iris-setosa\", \"cluster\": 1}, {\" sepal length\": 4.3, \"sepal width\": 3.0, \"petal length\": 1.1, \"petal width\": 0.1, \"Clas\": \"Iris-setosa\", \"cluster\": 1}, {\" sepal length\": 5.8, \"sepal width\": 4.0, \"petal length\": 1.2, \"petal width\": 0.2, \"Clas\": \"Iris-setosa\", \"cluster\": 5}, {\" sepal length\": 5.7, \"sepal width\": 4.4, \"petal length\": 1.5, \"petal width\": 0.4, \"Clas\": \"Iris-setosa\", \"cluster\": 5}, {\" sepal length\": 5.4, \"sepal width\": 3.9, \"petal length\": 1.3, \"petal width\": 0.4, \"Clas\": \"Iris-setosa\", \"cluster\": 5}, {\" sepal length\": 5.1, \"sepal width\": 3.5, \"petal length\": 1.4, \"petal width\": 0.3, \"Clas\": \"Iris-setosa\", \"cluster\": 5}, {\" sepal length\": 5.7, \"sepal width\": 3.8, \"petal length\": 1.7, \"petal width\": 0.3, \"Clas\": \"Iris-setosa\", \"cluster\": 5}, {\" sepal length\": 5.1, \"sepal width\": 3.8, \"petal length\": 1.5, \"petal width\": 0.3, \"Clas\": \"Iris-setosa\", \"cluster\": 5}, {\" sepal length\": 5.4, \"sepal width\": 3.4, \"petal length\": 1.7, \"petal width\": 0.2, \"Clas\": \"Iris-setosa\", \"cluster\": 5}, {\" sepal length\": 5.1, \"sepal width\": 3.7, \"petal length\": 1.5, \"petal width\": 0.4, \"Clas\": \"Iris-setosa\", \"cluster\": 5}, {\" sepal length\": 4.6, \"sepal width\": 3.6, \"petal length\": 1.0, \"petal width\": 0.2, \"Clas\": \"Iris-setosa\", \"cluster\": 1}, {\" sepal length\": 5.1, \"sepal width\": 3.3, \"petal length\": 1.7, \"petal width\": 0.5, \"Clas\": \"Iris-setosa\", \"cluster\": 5}, {\" sepal length\": 4.8, \"sepal width\": 3.4, \"petal length\": 1.9, \"petal width\": 0.2, \"Clas\": \"Iris-setosa\", \"cluster\": 1}, {\" sepal length\": 5.0, \"sepal width\": 3.0, \"petal length\": 1.6, \"petal width\": 0.2, \"Clas\": \"Iris-setosa\", \"cluster\": 5}, {\" sepal length\": 5.0, \"sepal width\": 3.4, \"petal length\": 1.6, \"petal width\": 0.4, \"Clas\": \"Iris-setosa\", \"cluster\": 5}, {\" sepal length\": 5.2, \"sepal width\": 3.5, \"petal length\": 1.5, \"petal width\": 0.2, \"Clas\": \"Iris-setosa\", \"cluster\": 5}, {\" sepal length\": 5.2, \"sepal width\": 3.4, \"petal length\": 1.4, \"petal width\": 0.2, \"Clas\": \"Iris-setosa\", \"cluster\": 5}, {\" sepal length\": 4.7, \"sepal width\": 3.2, \"petal length\": 1.6, \"petal width\": 0.2, \"Clas\": \"Iris-setosa\", \"cluster\": 1}, {\" sepal length\": 4.8, \"sepal width\": 3.1, \"petal length\": 1.6, \"petal width\": 0.2, \"Clas\": \"Iris-setosa\", \"cluster\": 1}, {\" sepal length\": 5.4, \"sepal width\": 3.4, \"petal length\": 1.5, \"petal width\": 0.4, \"Clas\": \"Iris-setosa\", \"cluster\": 5}, {\" sepal length\": 5.2, \"sepal width\": 4.1, \"petal length\": 1.5, \"petal width\": 0.1, \"Clas\": \"Iris-setosa\", \"cluster\": 5}, {\" sepal length\": 5.5, \"sepal width\": 4.2, \"petal length\": 1.4, \"petal width\": 0.2, \"Clas\": \"Iris-setosa\", \"cluster\": 5}, {\" sepal length\": 4.9, \"sepal width\": 3.1, \"petal length\": 1.5, \"petal width\": 0.1, \"Clas\": \"Iris-setosa\", \"cluster\": 1}, {\" sepal length\": 5.0, \"sepal width\": 3.2, \"petal length\": 1.2, \"petal width\": 0.2, \"Clas\": \"Iris-setosa\", \"cluster\": 5}, {\" sepal length\": 5.5, \"sepal width\": 3.5, \"petal length\": 1.3, \"petal width\": 0.2, \"Clas\": \"Iris-setosa\", \"cluster\": 5}, {\" sepal length\": 4.9, \"sepal width\": 3.1, \"petal length\": 1.5, \"petal width\": 0.1, \"Clas\": \"Iris-setosa\", \"cluster\": 1}, {\" sepal length\": 4.4, \"sepal width\": 3.0, \"petal length\": 1.3, \"petal width\": 0.2, \"Clas\": \"Iris-setosa\", \"cluster\": 1}, {\" sepal length\": 5.1, \"sepal width\": 3.4, \"petal length\": 1.5, \"petal width\": 0.2, \"Clas\": \"Iris-setosa\", \"cluster\": 5}, {\" sepal length\": 5.0, \"sepal width\": 3.5, \"petal length\": 1.3, \"petal width\": 0.3, \"Clas\": \"Iris-setosa\", \"cluster\": 5}, {\" sepal length\": 4.5, \"sepal width\": 2.3, \"petal length\": 1.3, \"petal width\": 0.3, \"Clas\": \"Iris-setosa\", \"cluster\": 1}, {\" sepal length\": 4.4, \"sepal width\": 3.2, \"petal length\": 1.3, \"petal width\": 0.2, \"Clas\": \"Iris-setosa\", \"cluster\": 1}, {\" sepal length\": 5.0, \"sepal width\": 3.5, \"petal length\": 1.6, \"petal width\": 0.6, \"Clas\": \"Iris-setosa\", \"cluster\": 5}, {\" sepal length\": 5.1, \"sepal width\": 3.8, \"petal length\": 1.9, \"petal width\": 0.4, \"Clas\": \"Iris-setosa\", \"cluster\": 5}, {\" sepal length\": 4.8, \"sepal width\": 3.0, \"petal length\": 1.4, \"petal width\": 0.3, \"Clas\": \"Iris-setosa\", \"cluster\": 1}, {\" sepal length\": 5.1, \"sepal width\": 3.8, \"petal length\": 1.6, \"petal width\": 0.2, \"Clas\": \"Iris-setosa\", \"cluster\": 5}, {\" sepal length\": 4.6, \"sepal width\": 3.2, \"petal length\": 1.4, \"petal width\": 0.2, \"Clas\": \"Iris-setosa\", \"cluster\": 1}, {\" sepal length\": 5.3, \"sepal width\": 3.7, \"petal length\": 1.5, \"petal width\": 0.2, \"Clas\": \"Iris-setosa\", \"cluster\": 5}, {\" sepal length\": 5.0, \"sepal width\": 3.3, \"petal length\": 1.4, \"petal width\": 0.2, \"Clas\": \"Iris-setosa\", \"cluster\": 5}, {\" sepal length\": 7.0, \"sepal width\": 3.2, \"petal length\": 4.7, \"petal width\": 1.4, \"Clas\": \"Iris-versicolor\", \"cluster\": 6}, {\" sepal length\": 6.4, \"sepal width\": 3.2, \"petal length\": 4.5, \"petal width\": 1.5, \"Clas\": \"Iris-versicolor\", \"cluster\": 6}, {\" sepal length\": 6.9, \"sepal width\": 3.1, \"petal length\": 4.9, \"petal width\": 1.5, \"Clas\": \"Iris-versicolor\", \"cluster\": 6}, {\" sepal length\": 5.5, \"sepal width\": 2.3, \"petal length\": 4.0, \"petal width\": 1.3, \"Clas\": \"Iris-versicolor\", \"cluster\": 2}, {\" sepal length\": 6.5, \"sepal width\": 2.8, \"petal length\": 4.6, \"petal width\": 1.5, \"Clas\": \"Iris-versicolor\", \"cluster\": 6}, {\" sepal length\": 5.7, \"sepal width\": 2.8, \"petal length\": 4.5, \"petal width\": 1.3, \"Clas\": \"Iris-versicolor\", \"cluster\": 2}, {\" sepal length\": 6.3, \"sepal width\": 3.3, \"petal length\": 4.7, \"petal width\": 1.6, \"Clas\": \"Iris-versicolor\", \"cluster\": 6}, {\" sepal length\": 4.9, \"sepal width\": 2.4, \"petal length\": 3.3, \"petal width\": 1.0, \"Clas\": \"Iris-versicolor\", \"cluster\": 7}, {\" sepal length\": 6.6, \"sepal width\": 2.9, \"petal length\": 4.6, \"petal width\": 1.3, \"Clas\": \"Iris-versicolor\", \"cluster\": 6}, {\" sepal length\": 5.2, \"sepal width\": 2.7, \"petal length\": 3.9, \"petal width\": 1.4, \"Clas\": \"Iris-versicolor\", \"cluster\": 7}, {\" sepal length\": 5.0, \"sepal width\": 2.0, \"petal length\": 3.5, \"petal width\": 1.0, \"Clas\": \"Iris-versicolor\", \"cluster\": 7}, {\" sepal length\": 5.9, \"sepal width\": 3.0, \"petal length\": 4.2, \"petal width\": 1.5, \"Clas\": \"Iris-versicolor\", \"cluster\": 2}, {\" sepal length\": 6.0, \"sepal width\": 2.2, \"petal length\": 4.0, \"petal width\": 1.0, \"Clas\": \"Iris-versicolor\", \"cluster\": 2}, {\" sepal length\": 6.1, \"sepal width\": 2.9, \"petal length\": 4.7, \"petal width\": 1.4, \"Clas\": \"Iris-versicolor\", \"cluster\": 3}, {\" sepal length\": 5.6, \"sepal width\": 2.9, \"petal length\": 3.6, \"petal width\": 1.3, \"Clas\": \"Iris-versicolor\", \"cluster\": 7}, {\" sepal length\": 6.7, \"sepal width\": 3.1, \"petal length\": 4.4, \"petal width\": 1.4, \"Clas\": \"Iris-versicolor\", \"cluster\": 6}, {\" sepal length\": 5.6, \"sepal width\": 3.0, \"petal length\": 4.5, \"petal width\": 1.5, \"Clas\": \"Iris-versicolor\", \"cluster\": 2}, {\" sepal length\": 5.8, \"sepal width\": 2.7, \"petal length\": 4.1, \"petal width\": 1.0, \"Clas\": \"Iris-versicolor\", \"cluster\": 2}, {\" sepal length\": 6.2, \"sepal width\": 2.2, \"petal length\": 4.5, \"petal width\": 1.5, \"Clas\": \"Iris-versicolor\", \"cluster\": 6}, {\" sepal length\": 5.6, \"sepal width\": 2.5, \"petal length\": 3.9, \"petal width\": 1.1, \"Clas\": \"Iris-versicolor\", \"cluster\": 2}, {\" sepal length\": 5.9, \"sepal width\": 3.2, \"petal length\": 4.8, \"petal width\": 1.8, \"Clas\": \"Iris-versicolor\", \"cluster\": 3}, {\" sepal length\": 6.1, \"sepal width\": 2.8, \"petal length\": 4.0, \"petal width\": 1.3, \"Clas\": \"Iris-versicolor\", \"cluster\": 2}, {\" sepal length\": 6.3, \"sepal width\": 2.5, \"petal length\": 4.9, \"petal width\": 1.5, \"Clas\": \"Iris-versicolor\", \"cluster\": 3}, {\" sepal length\": 6.1, \"sepal width\": 2.8, \"petal length\": 4.7, \"petal width\": 1.2, \"Clas\": \"Iris-versicolor\", \"cluster\": 3}, {\" sepal length\": 6.4, \"sepal width\": 2.9, \"petal length\": 4.3, \"petal width\": 1.3, \"Clas\": \"Iris-versicolor\", \"cluster\": 6}, {\" sepal length\": 6.6, \"sepal width\": 3.0, \"petal length\": 4.4, \"petal width\": 1.4, \"Clas\": \"Iris-versicolor\", \"cluster\": 6}, {\" sepal length\": 6.8, \"sepal width\": 2.8, \"petal length\": 4.8, \"petal width\": 1.4, \"Clas\": \"Iris-versicolor\", \"cluster\": 6}, {\" sepal length\": 6.7, \"sepal width\": 3.0, \"petal length\": 5.0, \"petal width\": 1.7, \"Clas\": \"Iris-versicolor\", \"cluster\": 6}, {\" sepal length\": 6.0, \"sepal width\": 2.9, \"petal length\": 4.5, \"petal width\": 1.5, \"Clas\": \"Iris-versicolor\", \"cluster\": 3}, {\" sepal length\": 5.7, \"sepal width\": 2.6, \"petal length\": 3.5, \"petal width\": 1.0, \"Clas\": \"Iris-versicolor\", \"cluster\": 7}, {\" sepal length\": 5.5, \"sepal width\": 2.4, \"petal length\": 3.8, \"petal width\": 1.1, \"Clas\": \"Iris-versicolor\", \"cluster\": 7}, {\" sepal length\": 5.5, \"sepal width\": 2.4, \"petal length\": 3.7, \"petal width\": 1.0, \"Clas\": \"Iris-versicolor\", \"cluster\": 7}, {\" sepal length\": 5.8, \"sepal width\": 2.7, \"petal length\": 3.9, \"petal width\": 1.2, \"Clas\": \"Iris-versicolor\", \"cluster\": 2}, {\" sepal length\": 6.0, \"sepal width\": 2.7, \"petal length\": 5.1, \"petal width\": 1.6, \"Clas\": \"Iris-versicolor\", \"cluster\": 3}, {\" sepal length\": 5.4, \"sepal width\": 3.0, \"petal length\": 4.5, \"petal width\": 1.5, \"Clas\": \"Iris-versicolor\", \"cluster\": 2}, {\" sepal length\": 6.0, \"sepal width\": 3.4, \"petal length\": 4.5, \"petal width\": 1.6, \"Clas\": \"Iris-versicolor\", \"cluster\": 3}, {\" sepal length\": 6.7, \"sepal width\": 3.1, \"petal length\": 4.7, \"petal width\": 1.5, \"Clas\": \"Iris-versicolor\", \"cluster\": 6}, {\" sepal length\": 6.3, \"sepal width\": 2.3, \"petal length\": 4.4, \"petal width\": 1.3, \"Clas\": \"Iris-versicolor\", \"cluster\": 6}, {\" sepal length\": 5.6, \"sepal width\": 3.0, \"petal length\": 4.1, \"petal width\": 1.3, \"Clas\": \"Iris-versicolor\", \"cluster\": 2}, {\" sepal length\": 5.5, \"sepal width\": 2.5, \"petal length\": 4.0, \"petal width\": 1.3, \"Clas\": \"Iris-versicolor\", \"cluster\": 2}, {\" sepal length\": 5.5, \"sepal width\": 2.6, \"petal length\": 4.4, \"petal width\": 1.2, \"Clas\": \"Iris-versicolor\", \"cluster\": 2}, {\" sepal length\": 6.1, \"sepal width\": 3.0, \"petal length\": 4.6, \"petal width\": 1.4, \"Clas\": \"Iris-versicolor\", \"cluster\": 3}, {\" sepal length\": 5.8, \"sepal width\": 2.6, \"petal length\": 4.0, \"petal width\": 1.2, \"Clas\": \"Iris-versicolor\", \"cluster\": 2}, {\" sepal length\": 5.0, \"sepal width\": 2.3, \"petal length\": 3.3, \"petal width\": 1.0, \"Clas\": \"Iris-versicolor\", \"cluster\": 7}, {\" sepal length\": 5.6, \"sepal width\": 2.7, \"petal length\": 4.2, \"petal width\": 1.3, \"Clas\": \"Iris-versicolor\", \"cluster\": 2}, {\" sepal length\": 5.7, \"sepal width\": 3.0, \"petal length\": 4.2, \"petal width\": 1.2, \"Clas\": \"Iris-versicolor\", \"cluster\": 2}, {\" sepal length\": 5.7, \"sepal width\": 2.9, \"petal length\": 4.2, \"petal width\": 1.3, \"Clas\": \"Iris-versicolor\", \"cluster\": 2}, {\" sepal length\": 6.2, \"sepal width\": 2.9, \"petal length\": 4.3, \"petal width\": 1.3, \"Clas\": \"Iris-versicolor\", \"cluster\": 6}, {\" sepal length\": 5.1, \"sepal width\": 2.5, \"petal length\": 3.0, \"petal width\": 1.1, \"Clas\": \"Iris-versicolor\", \"cluster\": 7}, {\" sepal length\": 5.7, \"sepal width\": 2.8, \"petal length\": 4.1, \"petal width\": 1.3, \"Clas\": \"Iris-versicolor\", \"cluster\": 2}, {\" sepal length\": 6.3, \"sepal width\": 3.3, \"petal length\": 6.0, \"petal width\": 2.5, \"Clas\": \"Iris-virginica\", \"cluster\": 0}, {\" sepal length\": 5.8, \"sepal width\": 2.7, \"petal length\": 5.1, \"petal width\": 1.9, \"Clas\": \"Iris-virginica\", \"cluster\": 3}, {\" sepal length\": 7.1, \"sepal width\": 3.0, \"petal length\": 5.9, \"petal width\": 2.1, \"Clas\": \"Iris-virginica\", \"cluster\": 0}, {\" sepal length\": 6.3, \"sepal width\": 2.9, \"petal length\": 5.6, \"petal width\": 1.8, \"Clas\": \"Iris-virginica\", \"cluster\": 0}, {\" sepal length\": 6.5, \"sepal width\": 3.0, \"petal length\": 5.8, \"petal width\": 2.2, \"Clas\": \"Iris-virginica\", \"cluster\": 0}, {\" sepal length\": 7.6, \"sepal width\": 3.0, \"petal length\": 6.6, \"petal width\": 2.1, \"Clas\": \"Iris-virginica\", \"cluster\": 4}, {\" sepal length\": 4.9, \"sepal width\": 2.5, \"petal length\": 4.5, \"petal width\": 1.7, \"Clas\": \"Iris-virginica\", \"cluster\": 2}, {\" sepal length\": 7.3, \"sepal width\": 2.9, \"petal length\": 6.3, \"petal width\": 1.8, \"Clas\": \"Iris-virginica\", \"cluster\": 4}, {\" sepal length\": 6.7, \"sepal width\": 2.5, \"petal length\": 5.8, \"petal width\": 1.8, \"Clas\": \"Iris-virginica\", \"cluster\": 0}, {\" sepal length\": 7.2, \"sepal width\": 3.6, \"petal length\": 6.1, \"petal width\": 2.5, \"Clas\": \"Iris-virginica\", \"cluster\": 4}, {\" sepal length\": 6.5, \"sepal width\": 3.2, \"petal length\": 5.1, \"petal width\": 2.0, \"Clas\": \"Iris-virginica\", \"cluster\": 0}, {\" sepal length\": 6.4, \"sepal width\": 2.7, \"petal length\": 5.3, \"petal width\": 1.9, \"Clas\": \"Iris-virginica\", \"cluster\": 0}, {\" sepal length\": 6.8, \"sepal width\": 3.0, \"petal length\": 5.5, \"petal width\": 2.1, \"Clas\": \"Iris-virginica\", \"cluster\": 0}, {\" sepal length\": 5.7, \"sepal width\": 2.5, \"petal length\": 5.0, \"petal width\": 2.0, \"Clas\": \"Iris-virginica\", \"cluster\": 3}, {\" sepal length\": 5.8, \"sepal width\": 2.8, \"petal length\": 5.1, \"petal width\": 2.4, \"Clas\": \"Iris-virginica\", \"cluster\": 3}, {\" sepal length\": 6.4, \"sepal width\": 3.2, \"petal length\": 5.3, \"petal width\": 2.3, \"Clas\": \"Iris-virginica\", \"cluster\": 0}, {\" sepal length\": 6.5, \"sepal width\": 3.0, \"petal length\": 5.5, \"petal width\": 1.8, \"Clas\": \"Iris-virginica\", \"cluster\": 0}, {\" sepal length\": 7.7, \"sepal width\": 3.8, \"petal length\": 6.7, \"petal width\": 2.2, \"Clas\": \"Iris-virginica\", \"cluster\": 4}, {\" sepal length\": 7.7, \"sepal width\": 2.6, \"petal length\": 6.9, \"petal width\": 2.3, \"Clas\": \"Iris-virginica\", \"cluster\": 4}, {\" sepal length\": 6.0, \"sepal width\": 2.2, \"petal length\": 5.0, \"petal width\": 1.5, \"Clas\": \"Iris-virginica\", \"cluster\": 3}, {\" sepal length\": 6.9, \"sepal width\": 3.2, \"petal length\": 5.7, \"petal width\": 2.3, \"Clas\": \"Iris-virginica\", \"cluster\": 0}, {\" sepal length\": 5.6, \"sepal width\": 2.8, \"petal length\": 4.9, \"petal width\": 2.0, \"Clas\": \"Iris-virginica\", \"cluster\": 3}, {\" sepal length\": 7.7, \"sepal width\": 2.8, \"petal length\": 6.7, \"petal width\": 2.0, \"Clas\": \"Iris-virginica\", \"cluster\": 4}, {\" sepal length\": 6.3, \"sepal width\": 2.7, \"petal length\": 4.9, \"petal width\": 1.8, \"Clas\": \"Iris-virginica\", \"cluster\": 3}, {\" sepal length\": 6.7, \"sepal width\": 3.3, \"petal length\": 5.7, \"petal width\": 2.1, \"Clas\": \"Iris-virginica\", \"cluster\": 0}, {\" sepal length\": 7.2, \"sepal width\": 3.2, \"petal length\": 6.0, \"petal width\": 1.8, \"Clas\": \"Iris-virginica\", \"cluster\": 4}, {\" sepal length\": 6.2, \"sepal width\": 2.8, \"petal length\": 4.8, \"petal width\": 1.8, \"Clas\": \"Iris-virginica\", \"cluster\": 3}, {\" sepal length\": 6.1, \"sepal width\": 3.0, \"petal length\": 4.9, \"petal width\": 1.8, \"Clas\": \"Iris-virginica\", \"cluster\": 3}, {\" sepal length\": 6.4, \"sepal width\": 2.8, \"petal length\": 5.6, \"petal width\": 2.1, \"Clas\": \"Iris-virginica\", \"cluster\": 0}, {\" sepal length\": 7.2, \"sepal width\": 3.0, \"petal length\": 5.8, \"petal width\": 1.6, \"Clas\": \"Iris-virginica\", \"cluster\": 0}, {\" sepal length\": 7.4, \"sepal width\": 2.8, \"petal length\": 6.1, \"petal width\": 1.9, \"Clas\": \"Iris-virginica\", \"cluster\": 4}, {\" sepal length\": 7.9, \"sepal width\": 3.8, \"petal length\": 6.4, \"petal width\": 2.0, \"Clas\": \"Iris-virginica\", \"cluster\": 4}, {\" sepal length\": 6.4, \"sepal width\": 2.8, \"petal length\": 5.6, \"petal width\": 2.2, \"Clas\": \"Iris-virginica\", \"cluster\": 0}, {\" sepal length\": 6.3, \"sepal width\": 2.8, \"petal length\": 5.1, \"petal width\": 1.5, \"Clas\": \"Iris-virginica\", \"cluster\": 3}, {\" sepal length\": 6.1, \"sepal width\": 2.6, \"petal length\": 5.6, \"petal width\": 1.4, \"Clas\": \"Iris-virginica\", \"cluster\": 0}, {\" sepal length\": 7.7, \"sepal width\": 3.0, \"petal length\": 6.1, \"petal width\": 2.3, \"Clas\": \"Iris-virginica\", \"cluster\": 4}, {\" sepal length\": 6.3, \"sepal width\": 3.4, \"petal length\": 5.6, \"petal width\": 2.4, \"Clas\": \"Iris-virginica\", \"cluster\": 0}, {\" sepal length\": 6.4, \"sepal width\": 3.1, \"petal length\": 5.5, \"petal width\": 1.8, \"Clas\": \"Iris-virginica\", \"cluster\": 0}, {\" sepal length\": 6.0, \"sepal width\": 3.0, \"petal length\": 4.8, \"petal width\": 1.8, \"Clas\": \"Iris-virginica\", \"cluster\": 3}, {\" sepal length\": 6.9, \"sepal width\": 3.1, \"petal length\": 5.4, \"petal width\": 2.1, \"Clas\": \"Iris-virginica\", \"cluster\": 0}, {\" sepal length\": 6.7, \"sepal width\": 3.1, \"petal length\": 5.6, \"petal width\": 2.4, \"Clas\": \"Iris-virginica\", \"cluster\": 0}, {\" sepal length\": 6.9, \"sepal width\": 3.1, \"petal length\": 5.1, \"petal width\": 2.3, \"Clas\": \"Iris-virginica\", \"cluster\": 0}, {\" sepal length\": 5.8, \"sepal width\": 2.7, \"petal length\": 5.1, \"petal width\": 1.9, \"Clas\": \"Iris-virginica\", \"cluster\": 3}, {\" sepal length\": 6.8, \"sepal width\": 3.2, \"petal length\": 5.9, \"petal width\": 2.3, \"Clas\": \"Iris-virginica\", \"cluster\": 0}, {\" sepal length\": 6.7, \"sepal width\": 3.3, \"petal length\": 5.7, \"petal width\": 2.5, \"Clas\": \"Iris-virginica\", \"cluster\": 0}, {\" sepal length\": 6.7, \"sepal width\": 3.0, \"petal length\": 5.2, \"petal width\": 2.3, \"Clas\": \"Iris-virginica\", \"cluster\": 0}, {\" sepal length\": 6.3, \"sepal width\": 2.5, \"petal length\": 5.0, \"petal width\": 1.9, \"Clas\": \"Iris-virginica\", \"cluster\": 3}, {\" sepal length\": 6.5, \"sepal width\": 3.0, \"petal length\": 5.2, \"petal width\": 2.0, \"Clas\": \"Iris-virginica\", \"cluster\": 0}, {\" sepal length\": 6.2, \"sepal width\": 3.4, \"petal length\": 5.4, \"petal width\": 2.3, \"Clas\": \"Iris-virginica\", \"cluster\": 0}, {\" sepal length\": 5.9, \"sepal width\": 3.0, \"petal length\": 5.1, \"petal width\": 1.8, \"Clas\": \"Iris-virginica\", \"cluster\": 3}]}}, {\"mode\": \"vega-lite\"});\n",
              "</script>"
            ],
            "text/plain": [
              "alt.Chart(...)"
            ]
          },
          "metadata": {
            "tags": []
          },
          "execution_count": 12
        }
      ]
    },
    {
      "cell_type": "markdown",
      "metadata": {
        "id": "kqrSQI2ONJSO"
      },
      "source": [
        "In our dataset we found 8 different clusters. Looking at the scatter plot from the iris dataset, eight clusters seems to be a lot. On the graph, some of the clusters look very close to each other and have similar values."
      ]
    },
    {
      "cell_type": "markdown",
      "metadata": {
        "id": "_skN3-LxNJSO"
      },
      "source": [
        "We will now be implementing the elbow method to find the optimal number of clusters."
      ]
    },
    {
      "cell_type": "markdown",
      "metadata": {
        "id": "wx7L44qCNJSO"
      },
      "source": [
        "First, we will define the range of cluster numbers we want to evaluate (between 1 and 10) and save them in a DataFrame called clusters. We will also create an empty list called inertia, where we will store our calculated values."
      ]
    },
    {
      "cell_type": "code",
      "metadata": {
        "id": "NBWXvjLINJSO"
      },
      "source": [
        "clusters = pd.DataFrame()\n",
        "clusters['cluster_range'] = range(1, 10)\n",
        "inertia = []"
      ],
      "execution_count": null,
      "outputs": []
    },
    {
      "cell_type": "markdown",
      "metadata": {
        "id": "JMbj6LZHNJSO"
      },
      "source": [
        "Next, we will create a for loop that will iterate over the range, fit a k-means model with the specified number of clusters, extract the inertia value, and store it in our list, as in the following code snippet"
      ]
    },
    {
      "cell_type": "code",
      "metadata": {
        "id": "muOlcE3-NJSO"
      },
      "source": [
        "for k in clusters['cluster_range']:\n",
        "    kmeans = KMeans(n_clusters=k, random_state=8).fit(X)\n",
        "    inertia.append(kmeans.inertia_)"
      ],
      "execution_count": null,
      "outputs": []
    },
    {
      "cell_type": "code",
      "metadata": {
        "id": "kkVIGbbnNJSO",
        "outputId": "ac8c6db9-a94c-4278-fd11-7d8cf602d430"
      },
      "source": [
        "clusters['inertia'] = inertia\n",
        "clusters"
      ],
      "execution_count": null,
      "outputs": [
        {
          "output_type": "execute_result",
          "data": {
            "text/html": [
              "<div>\n",
              "<style scoped>\n",
              "    .dataframe tbody tr th:only-of-type {\n",
              "        vertical-align: middle;\n",
              "    }\n",
              "\n",
              "    .dataframe tbody tr th {\n",
              "        vertical-align: top;\n",
              "    }\n",
              "\n",
              "    .dataframe thead th {\n",
              "        text-align: right;\n",
              "    }\n",
              "</style>\n",
              "<table border=\"1\" class=\"dataframe\">\n",
              "  <thead>\n",
              "    <tr style=\"text-align: right;\">\n",
              "      <th></th>\n",
              "      <th>cluster_range</th>\n",
              "      <th>inertia</th>\n",
              "    </tr>\n",
              "  </thead>\n",
              "  <tbody>\n",
              "    <tr>\n",
              "      <td>0</td>\n",
              "      <td>1</td>\n",
              "      <td>566.032067</td>\n",
              "    </tr>\n",
              "    <tr>\n",
              "      <td>1</td>\n",
              "      <td>2</td>\n",
              "      <td>112.962627</td>\n",
              "    </tr>\n",
              "    <tr>\n",
              "      <td>2</td>\n",
              "      <td>3</td>\n",
              "      <td>53.801351</td>\n",
              "    </tr>\n",
              "    <tr>\n",
              "      <td>3</td>\n",
              "      <td>4</td>\n",
              "      <td>34.314421</td>\n",
              "    </tr>\n",
              "    <tr>\n",
              "      <td>4</td>\n",
              "      <td>5</td>\n",
              "      <td>25.631465</td>\n",
              "    </tr>\n",
              "    <tr>\n",
              "      <td>5</td>\n",
              "      <td>6</td>\n",
              "      <td>21.821879</td>\n",
              "    </tr>\n",
              "    <tr>\n",
              "      <td>6</td>\n",
              "      <td>7</td>\n",
              "      <td>18.416887</td>\n",
              "    </tr>\n",
              "    <tr>\n",
              "      <td>7</td>\n",
              "      <td>8</td>\n",
              "      <td>15.125915</td>\n",
              "    </tr>\n",
              "    <tr>\n",
              "      <td>8</td>\n",
              "      <td>9</td>\n",
              "      <td>13.333865</td>\n",
              "    </tr>\n",
              "  </tbody>\n",
              "</table>\n",
              "</div>"
            ],
            "text/plain": [
              "   cluster_range     inertia\n",
              "0              1  566.032067\n",
              "1              2  112.962627\n",
              "2              3   53.801351\n",
              "3              4   34.314421\n",
              "4              5   25.631465\n",
              "5              6   21.821879\n",
              "6              7   18.416887\n",
              "7              8   15.125915\n",
              "8              9   13.333865"
            ]
          },
          "metadata": {
            "tags": []
          },
          "execution_count": 15
        }
      ]
    },
    {
      "cell_type": "markdown",
      "metadata": {
        "id": "I86wcgLSNJSO"
      },
      "source": [
        "Then, we need to plot a line chart using altair with the mark_line() method. We will specify the 'cluster_range' column as our x-axis and 'inertia' as our y-axis"
      ]
    },
    {
      "cell_type": "code",
      "metadata": {
        "id": "crEBMrXmNJSO",
        "outputId": "fb73be2c-75e7-4803-e6b3-cee9cbd63dd0"
      },
      "source": [
        "alt.Chart(clusters).mark_line().encode(x='cluster_range', y='inertia')"
      ],
      "execution_count": null,
      "outputs": [
        {
          "output_type": "execute_result",
          "data": {
            "text/html": [
              "\n",
              "<div id=\"altair-viz-d4f801b1c39c4a2c9c06f61c77c72f9e\"></div>\n",
              "<script type=\"text/javascript\">\n",
              "  (function(spec, embedOpt){\n",
              "    let outputDiv = document.currentScript.previousElementSibling;\n",
              "    if (outputDiv.id !== \"altair-viz-d4f801b1c39c4a2c9c06f61c77c72f9e\") {\n",
              "      outputDiv = document.getElementById(\"altair-viz-d4f801b1c39c4a2c9c06f61c77c72f9e\");\n",
              "    }\n",
              "    const paths = {\n",
              "      \"vega\": \"https://cdn.jsdelivr.net/npm//vega@5?noext\",\n",
              "      \"vega-lib\": \"https://cdn.jsdelivr.net/npm//vega-lib?noext\",\n",
              "      \"vega-lite\": \"https://cdn.jsdelivr.net/npm//vega-lite@4.8.1?noext\",\n",
              "      \"vega-embed\": \"https://cdn.jsdelivr.net/npm//vega-embed@6?noext\",\n",
              "    };\n",
              "\n",
              "    function loadScript(lib) {\n",
              "      return new Promise(function(resolve, reject) {\n",
              "        var s = document.createElement('script');\n",
              "        s.src = paths[lib];\n",
              "        s.async = true;\n",
              "        s.onload = () => resolve(paths[lib]);\n",
              "        s.onerror = () => reject(`Error loading script: ${paths[lib]}`);\n",
              "        document.getElementsByTagName(\"head\")[0].appendChild(s);\n",
              "      });\n",
              "    }\n",
              "\n",
              "    function showError(err) {\n",
              "      outputDiv.innerHTML = `<div class=\"error\" style=\"color:red;\">${err}</div>`;\n",
              "      throw err;\n",
              "    }\n",
              "\n",
              "    function displayChart(vegaEmbed) {\n",
              "      vegaEmbed(outputDiv, spec, embedOpt)\n",
              "        .catch(err => showError(`Javascript Error: ${err.message}<br>This usually means there's a typo in your chart specification. See the javascript console for the full traceback.`));\n",
              "    }\n",
              "\n",
              "    if(typeof define === \"function\" && define.amd) {\n",
              "      requirejs.config({paths});\n",
              "      require([\"vega-embed\"], displayChart, err => showError(`Error loading script: ${err.message}`));\n",
              "    } else if (typeof vegaEmbed === \"function\") {\n",
              "      displayChart(vegaEmbed);\n",
              "    } else {\n",
              "      loadScript(\"vega\")\n",
              "        .then(() => loadScript(\"vega-lite\"))\n",
              "        .then(() => loadScript(\"vega-embed\"))\n",
              "        .catch(showError)\n",
              "        .then(() => displayChart(vegaEmbed));\n",
              "    }\n",
              "  })({\"config\": {\"view\": {\"continuousWidth\": 400, \"continuousHeight\": 300}}, \"data\": {\"name\": \"data-88b156eb596ea45d37be3d59b6d18d26\"}, \"mark\": \"line\", \"encoding\": {\"x\": {\"type\": \"quantitative\", \"field\": \"cluster_range\"}, \"y\": {\"type\": \"quantitative\", \"field\": \"inertia\"}}, \"$schema\": \"https://vega.github.io/schema/vega-lite/v4.8.1.json\", \"datasets\": {\"data-88b156eb596ea45d37be3d59b6d18d26\": [{\"cluster_range\": 1, \"inertia\": 566.0320666666667}, {\"cluster_range\": 2, \"inertia\": 112.96262731481481}, {\"cluster_range\": 3, \"inertia\": 53.801351193126536}, {\"cluster_range\": 4, \"inertia\": 34.31442077922078}, {\"cluster_range\": 5, \"inertia\": 25.63146450956451}, {\"cluster_range\": 6, \"inertia\": 21.821878612128614}, {\"cluster_range\": 7, \"inertia\": 18.416886625086626}, {\"cluster_range\": 8, \"inertia\": 15.125915333999668}, {\"cluster_range\": 9, \"inertia\": 13.333864692112817}]}}, {\"mode\": \"vega-lite\"});\n",
              "</script>"
            ],
            "text/plain": [
              "alt.Chart(...)"
            ]
          },
          "metadata": {
            "tags": []
          },
          "execution_count": 16
        }
      ]
    },
    {
      "cell_type": "markdown",
      "metadata": {
        "id": "vJ8jh1VbNJSO"
      },
      "source": [
        "After we find the elbow we retrain our kmeans and plot the clusters as follows"
      ]
    },
    {
      "cell_type": "code",
      "metadata": {
        "id": "TzD8AUHENJSO",
        "outputId": "388f50a7-0c40-42c4-ded9-6cc5d00fd3a8"
      },
      "source": [
        "kmeans = KMeans(random_state=42, n_clusters=3)\n",
        "kmeans.fit(X)\n",
        "df['cluster2'] = kmeans.predict(X)\n",
        "scatter_plot.encode(x='petal length', \\\n",
        "                    y=' sepal length', \\\n",
        "                    color='cluster2:N', \\\n",
        "                    tooltip=['sepal width', 'cluster', \\\n",
        "                             'petal length', \\\n",
        "                             'Clas'])\\\n",
        "                    .interactive()"
      ],
      "execution_count": null,
      "outputs": [
        {
          "output_type": "execute_result",
          "data": {
            "text/html": [
              "\n",
              "<div id=\"altair-viz-8df9f2cd73b84d50be01de1456fb3b85\"></div>\n",
              "<script type=\"text/javascript\">\n",
              "  (function(spec, embedOpt){\n",
              "    let outputDiv = document.currentScript.previousElementSibling;\n",
              "    if (outputDiv.id !== \"altair-viz-8df9f2cd73b84d50be01de1456fb3b85\") {\n",
              "      outputDiv = document.getElementById(\"altair-viz-8df9f2cd73b84d50be01de1456fb3b85\");\n",
              "    }\n",
              "    const paths = {\n",
              "      \"vega\": \"https://cdn.jsdelivr.net/npm//vega@5?noext\",\n",
              "      \"vega-lib\": \"https://cdn.jsdelivr.net/npm//vega-lib?noext\",\n",
              "      \"vega-lite\": \"https://cdn.jsdelivr.net/npm//vega-lite@4.8.1?noext\",\n",
              "      \"vega-embed\": \"https://cdn.jsdelivr.net/npm//vega-embed@6?noext\",\n",
              "    };\n",
              "\n",
              "    function loadScript(lib) {\n",
              "      return new Promise(function(resolve, reject) {\n",
              "        var s = document.createElement('script');\n",
              "        s.src = paths[lib];\n",
              "        s.async = true;\n",
              "        s.onload = () => resolve(paths[lib]);\n",
              "        s.onerror = () => reject(`Error loading script: ${paths[lib]}`);\n",
              "        document.getElementsByTagName(\"head\")[0].appendChild(s);\n",
              "      });\n",
              "    }\n",
              "\n",
              "    function showError(err) {\n",
              "      outputDiv.innerHTML = `<div class=\"error\" style=\"color:red;\">${err}</div>`;\n",
              "      throw err;\n",
              "    }\n",
              "\n",
              "    function displayChart(vegaEmbed) {\n",
              "      vegaEmbed(outputDiv, spec, embedOpt)\n",
              "        .catch(err => showError(`Javascript Error: ${err.message}<br>This usually means there's a typo in your chart specification. See the javascript console for the full traceback.`));\n",
              "    }\n",
              "\n",
              "    if(typeof define === \"function\" && define.amd) {\n",
              "      requirejs.config({paths});\n",
              "      require([\"vega-embed\"], displayChart, err => showError(`Error loading script: ${err.message}`));\n",
              "    } else if (typeof vegaEmbed === \"function\") {\n",
              "      displayChart(vegaEmbed);\n",
              "    } else {\n",
              "      loadScript(\"vega\")\n",
              "        .then(() => loadScript(\"vega-lite\"))\n",
              "        .then(() => loadScript(\"vega-embed\"))\n",
              "        .catch(showError)\n",
              "        .then(() => displayChart(vegaEmbed));\n",
              "    }\n",
              "  })({\"config\": {\"view\": {\"continuousWidth\": 400, \"continuousHeight\": 300}}, \"data\": {\"name\": \"data-c0a1e2ccabd1387776158b381c35a5ed\"}, \"mark\": \"circle\", \"encoding\": {\"color\": {\"type\": \"nominal\", \"field\": \"cluster2\"}, \"tooltip\": [{\"type\": \"quantitative\", \"field\": \"sepal width\"}, {\"type\": \"quantitative\", \"field\": \"cluster\"}, {\"type\": \"quantitative\", \"field\": \"petal length\"}, {\"type\": \"nominal\", \"field\": \"Clas\"}], \"x\": {\"type\": \"quantitative\", \"field\": \"petal length\"}, \"y\": {\"type\": \"quantitative\", \"field\": \" sepal length\"}}, \"selection\": {\"selector003\": {\"type\": \"interval\", \"bind\": \"scales\", \"encodings\": [\"x\", \"y\"]}}, \"$schema\": \"https://vega.github.io/schema/vega-lite/v4.8.1.json\", \"datasets\": {\"data-c0a1e2ccabd1387776158b381c35a5ed\": [{\" sepal length\": 5.1, \"sepal width\": 3.5, \"petal length\": 1.4, \"petal width\": 0.2, \"Clas\": \"Iris-setosa\", \"cluster\": 5, \"cluster2\": 1}, {\" sepal length\": 4.9, \"sepal width\": 3.0, \"petal length\": 1.4, \"petal width\": 0.2, \"Clas\": \"Iris-setosa\", \"cluster\": 1, \"cluster2\": 1}, {\" sepal length\": 4.7, \"sepal width\": 3.2, \"petal length\": 1.3, \"petal width\": 0.2, \"Clas\": \"Iris-setosa\", \"cluster\": 1, \"cluster2\": 1}, {\" sepal length\": 4.6, \"sepal width\": 3.1, \"petal length\": 1.5, \"petal width\": 0.2, \"Clas\": \"Iris-setosa\", \"cluster\": 1, \"cluster2\": 1}, {\" sepal length\": 5.0, \"sepal width\": 3.6, \"petal length\": 1.4, \"petal width\": 0.2, \"Clas\": \"Iris-setosa\", \"cluster\": 5, \"cluster2\": 1}, {\" sepal length\": 5.4, \"sepal width\": 3.9, \"petal length\": 1.7, \"petal width\": 0.4, \"Clas\": \"Iris-setosa\", \"cluster\": 5, \"cluster2\": 1}, {\" sepal length\": 4.6, \"sepal width\": 3.4, \"petal length\": 1.4, \"petal width\": 0.3, \"Clas\": \"Iris-setosa\", \"cluster\": 1, \"cluster2\": 1}, {\" sepal length\": 5.0, \"sepal width\": 3.4, \"petal length\": 1.5, \"petal width\": 0.2, \"Clas\": \"Iris-setosa\", \"cluster\": 5, \"cluster2\": 1}, {\" sepal length\": 4.4, \"sepal width\": 2.9, \"petal length\": 1.4, \"petal width\": 0.2, \"Clas\": \"Iris-setosa\", \"cluster\": 1, \"cluster2\": 1}, {\" sepal length\": 4.9, \"sepal width\": 3.1, \"petal length\": 1.5, \"petal width\": 0.1, \"Clas\": \"Iris-setosa\", \"cluster\": 1, \"cluster2\": 1}, {\" sepal length\": 5.4, \"sepal width\": 3.7, \"petal length\": 1.5, \"petal width\": 0.2, \"Clas\": \"Iris-setosa\", \"cluster\": 5, \"cluster2\": 1}, {\" sepal length\": 4.8, \"sepal width\": 3.4, \"petal length\": 1.6, \"petal width\": 0.2, \"Clas\": \"Iris-setosa\", \"cluster\": 1, \"cluster2\": 1}, {\" sepal length\": 4.8, \"sepal width\": 3.0, \"petal length\": 1.4, \"petal width\": 0.1, \"Clas\": \"Iris-setosa\", \"cluster\": 1, \"cluster2\": 1}, {\" sepal length\": 4.3, \"sepal width\": 3.0, \"petal length\": 1.1, \"petal width\": 0.1, \"Clas\": \"Iris-setosa\", \"cluster\": 1, \"cluster2\": 1}, {\" sepal length\": 5.8, \"sepal width\": 4.0, \"petal length\": 1.2, \"petal width\": 0.2, \"Clas\": \"Iris-setosa\", \"cluster\": 5, \"cluster2\": 1}, {\" sepal length\": 5.7, \"sepal width\": 4.4, \"petal length\": 1.5, \"petal width\": 0.4, \"Clas\": \"Iris-setosa\", \"cluster\": 5, \"cluster2\": 1}, {\" sepal length\": 5.4, \"sepal width\": 3.9, \"petal length\": 1.3, \"petal width\": 0.4, \"Clas\": \"Iris-setosa\", \"cluster\": 5, \"cluster2\": 1}, {\" sepal length\": 5.1, \"sepal width\": 3.5, \"petal length\": 1.4, \"petal width\": 0.3, \"Clas\": \"Iris-setosa\", \"cluster\": 5, \"cluster2\": 1}, {\" sepal length\": 5.7, \"sepal width\": 3.8, \"petal length\": 1.7, \"petal width\": 0.3, \"Clas\": \"Iris-setosa\", \"cluster\": 5, \"cluster2\": 1}, {\" sepal length\": 5.1, \"sepal width\": 3.8, \"petal length\": 1.5, \"petal width\": 0.3, \"Clas\": \"Iris-setosa\", \"cluster\": 5, \"cluster2\": 1}, {\" sepal length\": 5.4, \"sepal width\": 3.4, \"petal length\": 1.7, \"petal width\": 0.2, \"Clas\": \"Iris-setosa\", \"cluster\": 5, \"cluster2\": 1}, {\" sepal length\": 5.1, \"sepal width\": 3.7, \"petal length\": 1.5, \"petal width\": 0.4, \"Clas\": \"Iris-setosa\", \"cluster\": 5, \"cluster2\": 1}, {\" sepal length\": 4.6, \"sepal width\": 3.6, \"petal length\": 1.0, \"petal width\": 0.2, \"Clas\": \"Iris-setosa\", \"cluster\": 1, \"cluster2\": 1}, {\" sepal length\": 5.1, \"sepal width\": 3.3, \"petal length\": 1.7, \"petal width\": 0.5, \"Clas\": \"Iris-setosa\", \"cluster\": 5, \"cluster2\": 1}, {\" sepal length\": 4.8, \"sepal width\": 3.4, \"petal length\": 1.9, \"petal width\": 0.2, \"Clas\": \"Iris-setosa\", \"cluster\": 1, \"cluster2\": 1}, {\" sepal length\": 5.0, \"sepal width\": 3.0, \"petal length\": 1.6, \"petal width\": 0.2, \"Clas\": \"Iris-setosa\", \"cluster\": 5, \"cluster2\": 1}, {\" sepal length\": 5.0, \"sepal width\": 3.4, \"petal length\": 1.6, \"petal width\": 0.4, \"Clas\": \"Iris-setosa\", \"cluster\": 5, \"cluster2\": 1}, {\" sepal length\": 5.2, \"sepal width\": 3.5, \"petal length\": 1.5, \"petal width\": 0.2, \"Clas\": \"Iris-setosa\", \"cluster\": 5, \"cluster2\": 1}, {\" sepal length\": 5.2, \"sepal width\": 3.4, \"petal length\": 1.4, \"petal width\": 0.2, \"Clas\": \"Iris-setosa\", \"cluster\": 5, \"cluster2\": 1}, {\" sepal length\": 4.7, \"sepal width\": 3.2, \"petal length\": 1.6, \"petal width\": 0.2, \"Clas\": \"Iris-setosa\", \"cluster\": 1, \"cluster2\": 1}, {\" sepal length\": 4.8, \"sepal width\": 3.1, \"petal length\": 1.6, \"petal width\": 0.2, \"Clas\": \"Iris-setosa\", \"cluster\": 1, \"cluster2\": 1}, {\" sepal length\": 5.4, \"sepal width\": 3.4, \"petal length\": 1.5, \"petal width\": 0.4, \"Clas\": \"Iris-setosa\", \"cluster\": 5, \"cluster2\": 1}, {\" sepal length\": 5.2, \"sepal width\": 4.1, \"petal length\": 1.5, \"petal width\": 0.1, \"Clas\": \"Iris-setosa\", \"cluster\": 5, \"cluster2\": 1}, {\" sepal length\": 5.5, \"sepal width\": 4.2, \"petal length\": 1.4, \"petal width\": 0.2, \"Clas\": \"Iris-setosa\", \"cluster\": 5, \"cluster2\": 1}, {\" sepal length\": 4.9, \"sepal width\": 3.1, \"petal length\": 1.5, \"petal width\": 0.1, \"Clas\": \"Iris-setosa\", \"cluster\": 1, \"cluster2\": 1}, {\" sepal length\": 5.0, \"sepal width\": 3.2, \"petal length\": 1.2, \"petal width\": 0.2, \"Clas\": \"Iris-setosa\", \"cluster\": 5, \"cluster2\": 1}, {\" sepal length\": 5.5, \"sepal width\": 3.5, \"petal length\": 1.3, \"petal width\": 0.2, \"Clas\": \"Iris-setosa\", \"cluster\": 5, \"cluster2\": 1}, {\" sepal length\": 4.9, \"sepal width\": 3.1, \"petal length\": 1.5, \"petal width\": 0.1, \"Clas\": \"Iris-setosa\", \"cluster\": 1, \"cluster2\": 1}, {\" sepal length\": 4.4, \"sepal width\": 3.0, \"petal length\": 1.3, \"petal width\": 0.2, \"Clas\": \"Iris-setosa\", \"cluster\": 1, \"cluster2\": 1}, {\" sepal length\": 5.1, \"sepal width\": 3.4, \"petal length\": 1.5, \"petal width\": 0.2, \"Clas\": \"Iris-setosa\", \"cluster\": 5, \"cluster2\": 1}, {\" sepal length\": 5.0, \"sepal width\": 3.5, \"petal length\": 1.3, \"petal width\": 0.3, \"Clas\": \"Iris-setosa\", \"cluster\": 5, \"cluster2\": 1}, {\" sepal length\": 4.5, \"sepal width\": 2.3, \"petal length\": 1.3, \"petal width\": 0.3, \"Clas\": \"Iris-setosa\", \"cluster\": 1, \"cluster2\": 1}, {\" sepal length\": 4.4, \"sepal width\": 3.2, \"petal length\": 1.3, \"petal width\": 0.2, \"Clas\": \"Iris-setosa\", \"cluster\": 1, \"cluster2\": 1}, {\" sepal length\": 5.0, \"sepal width\": 3.5, \"petal length\": 1.6, \"petal width\": 0.6, \"Clas\": \"Iris-setosa\", \"cluster\": 5, \"cluster2\": 1}, {\" sepal length\": 5.1, \"sepal width\": 3.8, \"petal length\": 1.9, \"petal width\": 0.4, \"Clas\": \"Iris-setosa\", \"cluster\": 5, \"cluster2\": 1}, {\" sepal length\": 4.8, \"sepal width\": 3.0, \"petal length\": 1.4, \"petal width\": 0.3, \"Clas\": \"Iris-setosa\", \"cluster\": 1, \"cluster2\": 1}, {\" sepal length\": 5.1, \"sepal width\": 3.8, \"petal length\": 1.6, \"petal width\": 0.2, \"Clas\": \"Iris-setosa\", \"cluster\": 5, \"cluster2\": 1}, {\" sepal length\": 4.6, \"sepal width\": 3.2, \"petal length\": 1.4, \"petal width\": 0.2, \"Clas\": \"Iris-setosa\", \"cluster\": 1, \"cluster2\": 1}, {\" sepal length\": 5.3, \"sepal width\": 3.7, \"petal length\": 1.5, \"petal width\": 0.2, \"Clas\": \"Iris-setosa\", \"cluster\": 5, \"cluster2\": 1}, {\" sepal length\": 5.0, \"sepal width\": 3.3, \"petal length\": 1.4, \"petal width\": 0.2, \"Clas\": \"Iris-setosa\", \"cluster\": 5, \"cluster2\": 1}, {\" sepal length\": 7.0, \"sepal width\": 3.2, \"petal length\": 4.7, \"petal width\": 1.4, \"Clas\": \"Iris-versicolor\", \"cluster\": 6, \"cluster2\": 0}, {\" sepal length\": 6.4, \"sepal width\": 3.2, \"petal length\": 4.5, \"petal width\": 1.5, \"Clas\": \"Iris-versicolor\", \"cluster\": 6, \"cluster2\": 2}, {\" sepal length\": 6.9, \"sepal width\": 3.1, \"petal length\": 4.9, \"petal width\": 1.5, \"Clas\": \"Iris-versicolor\", \"cluster\": 6, \"cluster2\": 0}, {\" sepal length\": 5.5, \"sepal width\": 2.3, \"petal length\": 4.0, \"petal width\": 1.3, \"Clas\": \"Iris-versicolor\", \"cluster\": 2, \"cluster2\": 2}, {\" sepal length\": 6.5, \"sepal width\": 2.8, \"petal length\": 4.6, \"petal width\": 1.5, \"Clas\": \"Iris-versicolor\", \"cluster\": 6, \"cluster2\": 2}, {\" sepal length\": 5.7, \"sepal width\": 2.8, \"petal length\": 4.5, \"petal width\": 1.3, \"Clas\": \"Iris-versicolor\", \"cluster\": 2, \"cluster2\": 2}, {\" sepal length\": 6.3, \"sepal width\": 3.3, \"petal length\": 4.7, \"petal width\": 1.6, \"Clas\": \"Iris-versicolor\", \"cluster\": 6, \"cluster2\": 2}, {\" sepal length\": 4.9, \"sepal width\": 2.4, \"petal length\": 3.3, \"petal width\": 1.0, \"Clas\": \"Iris-versicolor\", \"cluster\": 7, \"cluster2\": 2}, {\" sepal length\": 6.6, \"sepal width\": 2.9, \"petal length\": 4.6, \"petal width\": 1.3, \"Clas\": \"Iris-versicolor\", \"cluster\": 6, \"cluster2\": 2}, {\" sepal length\": 5.2, \"sepal width\": 2.7, \"petal length\": 3.9, \"petal width\": 1.4, \"Clas\": \"Iris-versicolor\", \"cluster\": 7, \"cluster2\": 2}, {\" sepal length\": 5.0, \"sepal width\": 2.0, \"petal length\": 3.5, \"petal width\": 1.0, \"Clas\": \"Iris-versicolor\", \"cluster\": 7, \"cluster2\": 2}, {\" sepal length\": 5.9, \"sepal width\": 3.0, \"petal length\": 4.2, \"petal width\": 1.5, \"Clas\": \"Iris-versicolor\", \"cluster\": 2, \"cluster2\": 2}, {\" sepal length\": 6.0, \"sepal width\": 2.2, \"petal length\": 4.0, \"petal width\": 1.0, \"Clas\": \"Iris-versicolor\", \"cluster\": 2, \"cluster2\": 2}, {\" sepal length\": 6.1, \"sepal width\": 2.9, \"petal length\": 4.7, \"petal width\": 1.4, \"Clas\": \"Iris-versicolor\", \"cluster\": 3, \"cluster2\": 2}, {\" sepal length\": 5.6, \"sepal width\": 2.9, \"petal length\": 3.6, \"petal width\": 1.3, \"Clas\": \"Iris-versicolor\", \"cluster\": 7, \"cluster2\": 2}, {\" sepal length\": 6.7, \"sepal width\": 3.1, \"petal length\": 4.4, \"petal width\": 1.4, \"Clas\": \"Iris-versicolor\", \"cluster\": 6, \"cluster2\": 2}, {\" sepal length\": 5.6, \"sepal width\": 3.0, \"petal length\": 4.5, \"petal width\": 1.5, \"Clas\": \"Iris-versicolor\", \"cluster\": 2, \"cluster2\": 2}, {\" sepal length\": 5.8, \"sepal width\": 2.7, \"petal length\": 4.1, \"petal width\": 1.0, \"Clas\": \"Iris-versicolor\", \"cluster\": 2, \"cluster2\": 2}, {\" sepal length\": 6.2, \"sepal width\": 2.2, \"petal length\": 4.5, \"petal width\": 1.5, \"Clas\": \"Iris-versicolor\", \"cluster\": 6, \"cluster2\": 2}, {\" sepal length\": 5.6, \"sepal width\": 2.5, \"petal length\": 3.9, \"petal width\": 1.1, \"Clas\": \"Iris-versicolor\", \"cluster\": 2, \"cluster2\": 2}, {\" sepal length\": 5.9, \"sepal width\": 3.2, \"petal length\": 4.8, \"petal width\": 1.8, \"Clas\": \"Iris-versicolor\", \"cluster\": 3, \"cluster2\": 2}, {\" sepal length\": 6.1, \"sepal width\": 2.8, \"petal length\": 4.0, \"petal width\": 1.3, \"Clas\": \"Iris-versicolor\", \"cluster\": 2, \"cluster2\": 2}, {\" sepal length\": 6.3, \"sepal width\": 2.5, \"petal length\": 4.9, \"petal width\": 1.5, \"Clas\": \"Iris-versicolor\", \"cluster\": 3, \"cluster2\": 2}, {\" sepal length\": 6.1, \"sepal width\": 2.8, \"petal length\": 4.7, \"petal width\": 1.2, \"Clas\": \"Iris-versicolor\", \"cluster\": 3, \"cluster2\": 2}, {\" sepal length\": 6.4, \"sepal width\": 2.9, \"petal length\": 4.3, \"petal width\": 1.3, \"Clas\": \"Iris-versicolor\", \"cluster\": 6, \"cluster2\": 2}, {\" sepal length\": 6.6, \"sepal width\": 3.0, \"petal length\": 4.4, \"petal width\": 1.4, \"Clas\": \"Iris-versicolor\", \"cluster\": 6, \"cluster2\": 2}, {\" sepal length\": 6.8, \"sepal width\": 2.8, \"petal length\": 4.8, \"petal width\": 1.4, \"Clas\": \"Iris-versicolor\", \"cluster\": 6, \"cluster2\": 0}, {\" sepal length\": 6.7, \"sepal width\": 3.0, \"petal length\": 5.0, \"petal width\": 1.7, \"Clas\": \"Iris-versicolor\", \"cluster\": 6, \"cluster2\": 0}, {\" sepal length\": 6.0, \"sepal width\": 2.9, \"petal length\": 4.5, \"petal width\": 1.5, \"Clas\": \"Iris-versicolor\", \"cluster\": 3, \"cluster2\": 2}, {\" sepal length\": 5.7, \"sepal width\": 2.6, \"petal length\": 3.5, \"petal width\": 1.0, \"Clas\": \"Iris-versicolor\", \"cluster\": 7, \"cluster2\": 2}, {\" sepal length\": 5.5, \"sepal width\": 2.4, \"petal length\": 3.8, \"petal width\": 1.1, \"Clas\": \"Iris-versicolor\", \"cluster\": 7, \"cluster2\": 2}, {\" sepal length\": 5.5, \"sepal width\": 2.4, \"petal length\": 3.7, \"petal width\": 1.0, \"Clas\": \"Iris-versicolor\", \"cluster\": 7, \"cluster2\": 2}, {\" sepal length\": 5.8, \"sepal width\": 2.7, \"petal length\": 3.9, \"petal width\": 1.2, \"Clas\": \"Iris-versicolor\", \"cluster\": 2, \"cluster2\": 2}, {\" sepal length\": 6.0, \"sepal width\": 2.7, \"petal length\": 5.1, \"petal width\": 1.6, \"Clas\": \"Iris-versicolor\", \"cluster\": 3, \"cluster2\": 2}, {\" sepal length\": 5.4, \"sepal width\": 3.0, \"petal length\": 4.5, \"petal width\": 1.5, \"Clas\": \"Iris-versicolor\", \"cluster\": 2, \"cluster2\": 2}, {\" sepal length\": 6.0, \"sepal width\": 3.4, \"petal length\": 4.5, \"petal width\": 1.6, \"Clas\": \"Iris-versicolor\", \"cluster\": 3, \"cluster2\": 2}, {\" sepal length\": 6.7, \"sepal width\": 3.1, \"petal length\": 4.7, \"petal width\": 1.5, \"Clas\": \"Iris-versicolor\", \"cluster\": 6, \"cluster2\": 2}, {\" sepal length\": 6.3, \"sepal width\": 2.3, \"petal length\": 4.4, \"petal width\": 1.3, \"Clas\": \"Iris-versicolor\", \"cluster\": 6, \"cluster2\": 2}, {\" sepal length\": 5.6, \"sepal width\": 3.0, \"petal length\": 4.1, \"petal width\": 1.3, \"Clas\": \"Iris-versicolor\", \"cluster\": 2, \"cluster2\": 2}, {\" sepal length\": 5.5, \"sepal width\": 2.5, \"petal length\": 4.0, \"petal width\": 1.3, \"Clas\": \"Iris-versicolor\", \"cluster\": 2, \"cluster2\": 2}, {\" sepal length\": 5.5, \"sepal width\": 2.6, \"petal length\": 4.4, \"petal width\": 1.2, \"Clas\": \"Iris-versicolor\", \"cluster\": 2, \"cluster2\": 2}, {\" sepal length\": 6.1, \"sepal width\": 3.0, \"petal length\": 4.6, \"petal width\": 1.4, \"Clas\": \"Iris-versicolor\", \"cluster\": 3, \"cluster2\": 2}, {\" sepal length\": 5.8, \"sepal width\": 2.6, \"petal length\": 4.0, \"petal width\": 1.2, \"Clas\": \"Iris-versicolor\", \"cluster\": 2, \"cluster2\": 2}, {\" sepal length\": 5.0, \"sepal width\": 2.3, \"petal length\": 3.3, \"petal width\": 1.0, \"Clas\": \"Iris-versicolor\", \"cluster\": 7, \"cluster2\": 2}, {\" sepal length\": 5.6, \"sepal width\": 2.7, \"petal length\": 4.2, \"petal width\": 1.3, \"Clas\": \"Iris-versicolor\", \"cluster\": 2, \"cluster2\": 2}, {\" sepal length\": 5.7, \"sepal width\": 3.0, \"petal length\": 4.2, \"petal width\": 1.2, \"Clas\": \"Iris-versicolor\", \"cluster\": 2, \"cluster2\": 2}, {\" sepal length\": 5.7, \"sepal width\": 2.9, \"petal length\": 4.2, \"petal width\": 1.3, \"Clas\": \"Iris-versicolor\", \"cluster\": 2, \"cluster2\": 2}, {\" sepal length\": 6.2, \"sepal width\": 2.9, \"petal length\": 4.3, \"petal width\": 1.3, \"Clas\": \"Iris-versicolor\", \"cluster\": 6, \"cluster2\": 2}, {\" sepal length\": 5.1, \"sepal width\": 2.5, \"petal length\": 3.0, \"petal width\": 1.1, \"Clas\": \"Iris-versicolor\", \"cluster\": 7, \"cluster2\": 1}, {\" sepal length\": 5.7, \"sepal width\": 2.8, \"petal length\": 4.1, \"petal width\": 1.3, \"Clas\": \"Iris-versicolor\", \"cluster\": 2, \"cluster2\": 2}, {\" sepal length\": 6.3, \"sepal width\": 3.3, \"petal length\": 6.0, \"petal width\": 2.5, \"Clas\": \"Iris-virginica\", \"cluster\": 0, \"cluster2\": 0}, {\" sepal length\": 5.8, \"sepal width\": 2.7, \"petal length\": 5.1, \"petal width\": 1.9, \"Clas\": \"Iris-virginica\", \"cluster\": 3, \"cluster2\": 2}, {\" sepal length\": 7.1, \"sepal width\": 3.0, \"petal length\": 5.9, \"petal width\": 2.1, \"Clas\": \"Iris-virginica\", \"cluster\": 0, \"cluster2\": 0}, {\" sepal length\": 6.3, \"sepal width\": 2.9, \"petal length\": 5.6, \"petal width\": 1.8, \"Clas\": \"Iris-virginica\", \"cluster\": 0, \"cluster2\": 0}, {\" sepal length\": 6.5, \"sepal width\": 3.0, \"petal length\": 5.8, \"petal width\": 2.2, \"Clas\": \"Iris-virginica\", \"cluster\": 0, \"cluster2\": 0}, {\" sepal length\": 7.6, \"sepal width\": 3.0, \"petal length\": 6.6, \"petal width\": 2.1, \"Clas\": \"Iris-virginica\", \"cluster\": 4, \"cluster2\": 0}, {\" sepal length\": 4.9, \"sepal width\": 2.5, \"petal length\": 4.5, \"petal width\": 1.7, \"Clas\": \"Iris-virginica\", \"cluster\": 2, \"cluster2\": 2}, {\" sepal length\": 7.3, \"sepal width\": 2.9, \"petal length\": 6.3, \"petal width\": 1.8, \"Clas\": \"Iris-virginica\", \"cluster\": 4, \"cluster2\": 0}, {\" sepal length\": 6.7, \"sepal width\": 2.5, \"petal length\": 5.8, \"petal width\": 1.8, \"Clas\": \"Iris-virginica\", \"cluster\": 0, \"cluster2\": 0}, {\" sepal length\": 7.2, \"sepal width\": 3.6, \"petal length\": 6.1, \"petal width\": 2.5, \"Clas\": \"Iris-virginica\", \"cluster\": 4, \"cluster2\": 0}, {\" sepal length\": 6.5, \"sepal width\": 3.2, \"petal length\": 5.1, \"petal width\": 2.0, \"Clas\": \"Iris-virginica\", \"cluster\": 0, \"cluster2\": 0}, {\" sepal length\": 6.4, \"sepal width\": 2.7, \"petal length\": 5.3, \"petal width\": 1.9, \"Clas\": \"Iris-virginica\", \"cluster\": 0, \"cluster2\": 0}, {\" sepal length\": 6.8, \"sepal width\": 3.0, \"petal length\": 5.5, \"petal width\": 2.1, \"Clas\": \"Iris-virginica\", \"cluster\": 0, \"cluster2\": 0}, {\" sepal length\": 5.7, \"sepal width\": 2.5, \"petal length\": 5.0, \"petal width\": 2.0, \"Clas\": \"Iris-virginica\", \"cluster\": 3, \"cluster2\": 2}, {\" sepal length\": 5.8, \"sepal width\": 2.8, \"petal length\": 5.1, \"petal width\": 2.4, \"Clas\": \"Iris-virginica\", \"cluster\": 3, \"cluster2\": 2}, {\" sepal length\": 6.4, \"sepal width\": 3.2, \"petal length\": 5.3, \"petal width\": 2.3, \"Clas\": \"Iris-virginica\", \"cluster\": 0, \"cluster2\": 0}, {\" sepal length\": 6.5, \"sepal width\": 3.0, \"petal length\": 5.5, \"petal width\": 1.8, \"Clas\": \"Iris-virginica\", \"cluster\": 0, \"cluster2\": 0}, {\" sepal length\": 7.7, \"sepal width\": 3.8, \"petal length\": 6.7, \"petal width\": 2.2, \"Clas\": \"Iris-virginica\", \"cluster\": 4, \"cluster2\": 0}, {\" sepal length\": 7.7, \"sepal width\": 2.6, \"petal length\": 6.9, \"petal width\": 2.3, \"Clas\": \"Iris-virginica\", \"cluster\": 4, \"cluster2\": 0}, {\" sepal length\": 6.0, \"sepal width\": 2.2, \"petal length\": 5.0, \"petal width\": 1.5, \"Clas\": \"Iris-virginica\", \"cluster\": 3, \"cluster2\": 2}, {\" sepal length\": 6.9, \"sepal width\": 3.2, \"petal length\": 5.7, \"petal width\": 2.3, \"Clas\": \"Iris-virginica\", \"cluster\": 0, \"cluster2\": 0}, {\" sepal length\": 5.6, \"sepal width\": 2.8, \"petal length\": 4.9, \"petal width\": 2.0, \"Clas\": \"Iris-virginica\", \"cluster\": 3, \"cluster2\": 2}, {\" sepal length\": 7.7, \"sepal width\": 2.8, \"petal length\": 6.7, \"petal width\": 2.0, \"Clas\": \"Iris-virginica\", \"cluster\": 4, \"cluster2\": 0}, {\" sepal length\": 6.3, \"sepal width\": 2.7, \"petal length\": 4.9, \"petal width\": 1.8, \"Clas\": \"Iris-virginica\", \"cluster\": 3, \"cluster2\": 2}, {\" sepal length\": 6.7, \"sepal width\": 3.3, \"petal length\": 5.7, \"petal width\": 2.1, \"Clas\": \"Iris-virginica\", \"cluster\": 0, \"cluster2\": 0}, {\" sepal length\": 7.2, \"sepal width\": 3.2, \"petal length\": 6.0, \"petal width\": 1.8, \"Clas\": \"Iris-virginica\", \"cluster\": 4, \"cluster2\": 0}, {\" sepal length\": 6.2, \"sepal width\": 2.8, \"petal length\": 4.8, \"petal width\": 1.8, \"Clas\": \"Iris-virginica\", \"cluster\": 3, \"cluster2\": 2}, {\" sepal length\": 6.1, \"sepal width\": 3.0, \"petal length\": 4.9, \"petal width\": 1.8, \"Clas\": \"Iris-virginica\", \"cluster\": 3, \"cluster2\": 2}, {\" sepal length\": 6.4, \"sepal width\": 2.8, \"petal length\": 5.6, \"petal width\": 2.1, \"Clas\": \"Iris-virginica\", \"cluster\": 0, \"cluster2\": 0}, {\" sepal length\": 7.2, \"sepal width\": 3.0, \"petal length\": 5.8, \"petal width\": 1.6, \"Clas\": \"Iris-virginica\", \"cluster\": 0, \"cluster2\": 0}, {\" sepal length\": 7.4, \"sepal width\": 2.8, \"petal length\": 6.1, \"petal width\": 1.9, \"Clas\": \"Iris-virginica\", \"cluster\": 4, \"cluster2\": 0}, {\" sepal length\": 7.9, \"sepal width\": 3.8, \"petal length\": 6.4, \"petal width\": 2.0, \"Clas\": \"Iris-virginica\", \"cluster\": 4, \"cluster2\": 0}, {\" sepal length\": 6.4, \"sepal width\": 2.8, \"petal length\": 5.6, \"petal width\": 2.2, \"Clas\": \"Iris-virginica\", \"cluster\": 0, \"cluster2\": 0}, {\" sepal length\": 6.3, \"sepal width\": 2.8, \"petal length\": 5.1, \"petal width\": 1.5, \"Clas\": \"Iris-virginica\", \"cluster\": 3, \"cluster2\": 0}, {\" sepal length\": 6.1, \"sepal width\": 2.6, \"petal length\": 5.6, \"petal width\": 1.4, \"Clas\": \"Iris-virginica\", \"cluster\": 0, \"cluster2\": 0}, {\" sepal length\": 7.7, \"sepal width\": 3.0, \"petal length\": 6.1, \"petal width\": 2.3, \"Clas\": \"Iris-virginica\", \"cluster\": 4, \"cluster2\": 0}, {\" sepal length\": 6.3, \"sepal width\": 3.4, \"petal length\": 5.6, \"petal width\": 2.4, \"Clas\": \"Iris-virginica\", \"cluster\": 0, \"cluster2\": 0}, {\" sepal length\": 6.4, \"sepal width\": 3.1, \"petal length\": 5.5, \"petal width\": 1.8, \"Clas\": \"Iris-virginica\", \"cluster\": 0, \"cluster2\": 0}, {\" sepal length\": 6.0, \"sepal width\": 3.0, \"petal length\": 4.8, \"petal width\": 1.8, \"Clas\": \"Iris-virginica\", \"cluster\": 3, \"cluster2\": 2}, {\" sepal length\": 6.9, \"sepal width\": 3.1, \"petal length\": 5.4, \"petal width\": 2.1, \"Clas\": \"Iris-virginica\", \"cluster\": 0, \"cluster2\": 0}, {\" sepal length\": 6.7, \"sepal width\": 3.1, \"petal length\": 5.6, \"petal width\": 2.4, \"Clas\": \"Iris-virginica\", \"cluster\": 0, \"cluster2\": 0}, {\" sepal length\": 6.9, \"sepal width\": 3.1, \"petal length\": 5.1, \"petal width\": 2.3, \"Clas\": \"Iris-virginica\", \"cluster\": 0, \"cluster2\": 0}, {\" sepal length\": 5.8, \"sepal width\": 2.7, \"petal length\": 5.1, \"petal width\": 1.9, \"Clas\": \"Iris-virginica\", \"cluster\": 3, \"cluster2\": 2}, {\" sepal length\": 6.8, \"sepal width\": 3.2, \"petal length\": 5.9, \"petal width\": 2.3, \"Clas\": \"Iris-virginica\", \"cluster\": 0, \"cluster2\": 0}, {\" sepal length\": 6.7, \"sepal width\": 3.3, \"petal length\": 5.7, \"petal width\": 2.5, \"Clas\": \"Iris-virginica\", \"cluster\": 0, \"cluster2\": 0}, {\" sepal length\": 6.7, \"sepal width\": 3.0, \"petal length\": 5.2, \"petal width\": 2.3, \"Clas\": \"Iris-virginica\", \"cluster\": 0, \"cluster2\": 0}, {\" sepal length\": 6.3, \"sepal width\": 2.5, \"petal length\": 5.0, \"petal width\": 1.9, \"Clas\": \"Iris-virginica\", \"cluster\": 3, \"cluster2\": 2}, {\" sepal length\": 6.5, \"sepal width\": 3.0, \"petal length\": 5.2, \"petal width\": 2.0, \"Clas\": \"Iris-virginica\", \"cluster\": 0, \"cluster2\": 0}, {\" sepal length\": 6.2, \"sepal width\": 3.4, \"petal length\": 5.4, \"petal width\": 2.3, \"Clas\": \"Iris-virginica\", \"cluster\": 0, \"cluster2\": 0}, {\" sepal length\": 5.9, \"sepal width\": 3.0, \"petal length\": 5.1, \"petal width\": 1.8, \"Clas\": \"Iris-virginica\", \"cluster\": 3, \"cluster2\": 2}]}}, {\"mode\": \"vega-lite\"});\n",
              "</script>"
            ],
            "text/plain": [
              "alt.Chart(...)"
            ]
          },
          "metadata": {
            "tags": []
          },
          "execution_count": 18
        }
      ]
    }
  ]
}